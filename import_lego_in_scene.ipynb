{
 "cells": [
  {
   "cell_type": "code",
   "execution_count": 1,
   "metadata": {},
   "outputs": [],
   "source": [
    "from time import sleep, time\n",
    "from subprocess import run\n",
    "from pathlib import Path\n",
    "from PIL import ImageColor\n",
    "import pandas as pd\n",
    "from IPython.display import display, Markdown, Latex, HTML\n",
    "from remote_execution import RemoteExecution"
   ]
  },
  {
   "cell_type": "markdown",
   "metadata": {},
   "source": [
    "# Connect to unreal"
   ]
  },
  {
   "cell_type": "code",
   "execution_count": 2,
   "metadata": {},
   "outputs": [],
   "source": [
    "remote_exec = RemoteExecution()\n",
    "remote_exec.start()\n",
    "sleep(0.5)\n",
    "for node in remote_exec.remote_nodes:\n",
    "    remote_exec.open_command_connection(node.get(\"node_id\"))\n"
   ]
  },
  {
   "cell_type": "code",
   "execution_count": 14,
   "metadata": {},
   "outputs": [
    {
     "data": {
      "text/plain": [
       "True"
      ]
     },
     "execution_count": 14,
     "metadata": {},
     "output_type": "execute_result"
    }
   ],
   "source": [
    "\n",
    "sleep(1)\n",
    "remote_exec.has_command_connection()\n"
   ]
  },
  {
   "cell_type": "markdown",
   "metadata": {},
   "source": [
    "# Load ldraw"
   ]
  },
  {
   "cell_type": "code",
   "execution_count": 10,
   "metadata": {},
   "outputs": [],
   "source": [
    "ldraw_path = Path(R'C:\\Program Files\\Studio 2.0\\ldraw')\n",
    "bender_exe = Path(R'C:\\Program Files\\Blender Foundation\\Blender 3.1\\blender.exe')\n",
    "place_lego_part = Path('Content/Python/place_lego_part.py')\n",
    "import_script = Path('blender_import_script.py')\n",
    "import_fbx = Path('Content/Python/import_fbx.py')\n",
    "place_lego_part = Path('Content/Python/place_lego_part.py')\n",
    "import_materials = Path('import_materials.py')"
   ]
  },
  {
   "cell_type": "code",
   "execution_count": 5,
   "metadata": {},
   "outputs": [],
   "source": [
    "colors = Path(R'C:\\Program Files\\Studio 2.0\\data\\StudioColorDefinition.txt')\n",
    "df = pd.read_csv(colors, delimiter='\t')"
   ]
  },
  {
   "cell_type": "code",
   "execution_count": 6,
   "metadata": {},
   "outputs": [],
   "source": [
    "df = df[['LDraw Color Code', 'RGB value', 'Alpha', 'Ins_CMYK']]"
   ]
  },
  {
   "cell_type": "code",
   "execution_count": 8,
   "metadata": {},
   "outputs": [
    {
     "name": "stdout",
     "output_type": "stream",
     "text": [
      "43712 can't place. importing...\n",
      "15208 can't place. importing...\n",
      "14704 can't place. importing...\n",
      "15456 can't place. importing...\n",
      "3022 can't place. importing...\n",
      "92946 can't place. importing...\n",
      "3024 can't place. importing...\n",
      "3068b can't place. importing...\n",
      "54200 can't place. importing...\n",
      "42023 can't place. importing...\n",
      "72454 can't place. importing...\n",
      "3004 can't place. importing...\n",
      "3023 can't place. importing...\n",
      "3710 can't place. importing...\n",
      "3623 can't place. importing...\n",
      "99207 can't place. importing...\n",
      "14418 can't place. importing...\n",
      "15573 can't place. importing...\n",
      "60481 can't place. importing...\n",
      "3040b can't place. importing...\n",
      "2450 can't place. importing...\n",
      "3009 can't place. importing...\n",
      "22885 can't place. importing...\n",
      "3795 can't place. importing...\n",
      "3001 can't place. importing...\n",
      "4032a can't place. importing...\n",
      "26604 can't place. importing...\n",
      "85984 can't place. importing...\n",
      "29119 can't place. importing...\n",
      "29120 can't place. importing...\n",
      "14417 can't place. importing...\n",
      "15068 can't place. importing...\n",
      "3021 can't place. importing...\n",
      "44728 can't place. importing...\n",
      "32952 can't place. importing...\n",
      "11477 can't place. importing...\n",
      "98138p0k can't place. importing...\n",
      "3005 can't place. importing...\n",
      "61678 can't place. importing...\n",
      "3937 can't place. importing...\n",
      "6134 can't place. importing...\n"
     ]
    }
   ],
   "source": [
    "copy_to_ue_tool = []\n",
    "file_to_import = R'c:\\Other\\Lego\\piaggio_ape_v1.ldr'\n",
    "with open(file_to_import) as f:\n",
    "    for line in f.readlines():\n",
    "        if line[0] == '1':\n",
    "            brick = line.split()  # color 1, file 14\n",
    "            color = brick[1]\n",
    "            vector = ','.join(brick[2:5])\n",
    "            matrix = ','.join(brick[5:14])\n",
    "            brick = brick[14].split('.')[0]\n",
    "            color_data = df[df['LDraw Color Code'] == int(color)]\n",
    "            try:\n",
    "                color_values = ImageColor.getcolor(\n",
    "                    color_data['RGB value'].iat[0], \"RGB\")\n",
    "            except:\n",
    "                print(f'skipped color {int(color)}')\n",
    "            color_r = color_values[0]/255.0\n",
    "            color_g = color_values[1]/255.0\n",
    "            color_b = color_values[2]/255.0\n",
    "            alpha = color_data['Alpha'].iat[0]\n",
    "            \n",
    "            brick_path = Path().joinpath('models', f'{brick}.fbx')\n",
    "            result = remote_exec.run_command(f'{place_lego_part.resolve()} -b \"{brick}\" -r \" {matrix}\" -v \" {vector}\" -m {color}')\n",
    "            result_material = remote_exec.run_command(f'{import_materials.resolve()} -r {color_r} -g {color_g} -b {color_b} -a {alpha} -n {color}')\n",
    "            if result_material['success'] == False:\n",
    "                print(brick, \"can't make materials\")\n",
    "                break\n",
    "            if result['success'] == False:\n",
    "                print(brick, \"can't place. importing...\")\n",
    "                blender_import = run(\n",
    "                    [bender_exe,\n",
    "                     '--background', '--python',\n",
    "                     import_script.resolve(), '--', brick, ldraw_path.resolve()]\n",
    "                )\n",
    "                if blender_import.returncode != 0:\n",
    "                    print('blender fail')\n",
    "                    break\n",
    "                result = remote_exec.run_command(f'{import_fbx.resolve()} -f {brick_path.resolve()}')\n",
    "                if result['success'] == False:\n",
    "                    print(brick, \"can't import\")\n",
    "                    break\n",
    "                result = remote_exec.run_command(f'{place_lego_part.resolve()} -b \"{brick}\" -r \" {matrix}\" -v \" {vector}\" -m {color}')\n",
    "                if result['success'] == False:\n",
    "                    print(brick, \"can't place after import\")\n",
    "                    break\n",
    "            copy_to_ue_tool.append(f'{place_lego_part.resolve()} -b \"{brick}\" -r \" {matrix}\" -v \" {vector}\" -m {color}')\n",
    "with open('last_commands.txt', 'w') as f:\n",
    "    f.write('\\n\\n'.join(copy_to_ue_tool))\n"
   ]
  },
  {
   "cell_type": "code",
   "execution_count": 13,
   "metadata": {},
   "outputs": [],
   "source": [
    "blender_import = run(\n",
    "                    [bender_exe,\n",
    "                     '--background', '--python',\n",
    "                     import_script.resolve(), '--', '2420', ldraw_path.resolve()]\n",
    "                )"
   ]
  }
 ],
 "metadata": {
  "kernelspec": {
   "display_name": "venv",
   "language": "python",
   "name": "python3"
  },
  "language_info": {
   "codemirror_mode": {
    "name": "ipython",
    "version": 3
   },
   "file_extension": ".py",
   "mimetype": "text/x-python",
   "name": "python",
   "nbconvert_exporter": "python",
   "pygments_lexer": "ipython3",
   "version": "3.8.7"
  },
  "orig_nbformat": 4,
  "vscode": {
   "interpreter": {
    "hash": "7b3dc9b13b5658835f1babe359843be8c4c848bcf74fa68b8900d0c5071da592"
   }
  }
 },
 "nbformat": 4,
 "nbformat_minor": 2
}
