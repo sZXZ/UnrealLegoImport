{
 "cells": [
  {
   "cell_type": "code",
   "execution_count": 1,
   "metadata": {},
   "outputs": [],
   "source": [
    "from time import sleep, time\n",
    "from subprocess import run\n",
    "from pathlib import Path\n",
    "from PIL import ImageColor\n",
    "import pandas as pd\n",
    "from IPython.display import display, Markdown, Latex, HTML\n",
    "from remote_execution import RemoteExecution"
   ]
  },
  {
   "cell_type": "markdown",
   "metadata": {},
   "source": [
    "# Connect to unreal"
   ]
  },
  {
   "cell_type": "code",
   "execution_count": 13,
   "metadata": {},
   "outputs": [],
   "source": [
    "remote_exec = RemoteExecution()\n",
    "remote_exec.start()\n",
    "sleep(0.5)\n",
    "for node in remote_exec.remote_nodes:\n",
    "    remote_exec.open_command_connection(node.get(\"node_id\"))\n"
   ]
  },
  {
   "cell_type": "code",
   "execution_count": 15,
   "metadata": {},
   "outputs": [
    {
     "data": {
      "text/plain": [
       "True"
      ]
     },
     "execution_count": 15,
     "metadata": {},
     "output_type": "execute_result"
    }
   ],
   "source": [
    "\n",
    "sleep(1)\n",
    "remote_exec.has_command_connection()\n"
   ]
  },
  {
   "cell_type": "markdown",
   "metadata": {},
   "source": [
    "# Load ldraw"
   ]
  },
  {
   "cell_type": "code",
   "execution_count": 16,
   "metadata": {},
   "outputs": [],
   "source": [
    "ldraw_path = Path(R'C:\\Program Files\\Studio 2.0\\ldraw')"
   ]
  },
  {
   "cell_type": "code",
   "execution_count": 17,
   "metadata": {},
   "outputs": [],
   "source": [
    "colors = Path(R'C:\\Program Files\\Studio 2.0\\data\\StudioColorDefinition.txt')\n",
    "df = pd.read_csv(colors, delimiter='\t')"
   ]
  },
  {
   "cell_type": "code",
   "execution_count": 18,
   "metadata": {},
   "outputs": [],
   "source": [
    "df = df[['LDraw Color Code', 'RGB value', 'Alpha', 'Ins_CMYK']]"
   ]
  },
  {
   "cell_type": "code",
   "execution_count": 20,
   "metadata": {},
   "outputs": [],
   "source": [
    "copy_to_ue_tool = []\n",
    "blander_exe = R'C:\\Program Files\\Blender Foundation\\Blender 3.1\\blender.exe'\n",
    "file_to_import = R'c:\\Other\\Lego\\test.ldr'\n",
    "with open(file_to_import) as f:\n",
    "    for line in f.readlines():\n",
    "        if line[0] == '1':\n",
    "            brick = line.split()  # color 1, file 14\n",
    "            color = brick[1]\n",
    "            vector = ','.join(brick[2:5])\n",
    "            matrix = ','.join(brick[5:14])\n",
    "            brick = brick[14].split('.')[0]\n",
    "            color_data = df[df['LDraw Color Code'] == int(color)]\n",
    "            try:\n",
    "                color_values = ImageColor.getcolor(\n",
    "                    color_data['RGB value'].iat[0], \"RGB\")\n",
    "            except:\n",
    "                print(f'skiped color {int(color)}')\n",
    "            color_r = color_values[0]/255.0\n",
    "            color_g = color_values[1]/255.0\n",
    "            color_b = color_values[2]/255.0\n",
    "            alpha = color_data['Alpha'].iat[0]\n",
    "            place_lego_part = Path('place_lego_part.py')\n",
    "            import_script = Path('import_script.py')\n",
    "            import_fbx = Path('import_fbx.py')\n",
    "            place_lego_part = Path('place_lego_part.py')\n",
    "            import_materials = Path('import_materials.py')\n",
    "            brick_path = Path().joinpath('models', f'{brick}.fbx')\n",
    "            result = remote_exec.run_command(f'{place_lego_part.resolve()} -b \"{brick}\" -r \" {matrix}\" -v \" {vector}\" -m {color}')\n",
    "            result_material = remote_exec.run_command(f'{import_materials.resolve()} -r {color_r} -g {color_g} -b {color_b} -a {alpha} -n {color}')\n",
    "            if result_material['success'] == False:\n",
    "                print(brick, \"can't make materials\")\n",
    "                break\n",
    "            if result['success'] == False:\n",
    "                print(brick, \"can't place. importing...\")\n",
    "                blender_import = run(\n",
    "                    [blander_exe,\n",
    "                     '--background', '--python',\n",
    "                     import_script.resolve(), '--', brick]\n",
    "                )\n",
    "                if blender_import.returncode != 0:\n",
    "                    print('blender fail')\n",
    "                    break\n",
    "                result = remote_exec.run_command(f'{import_fbx.resolve()} -f {brick_path.resolve()}')\n",
    "                if result['success'] == False:\n",
    "                    print(brick, \"can't import\")\n",
    "                    break\n",
    "                result = remote_exec.run_command(f'{place_lego_part.resolve()} -b \"{brick}\" -r \" {matrix}\" -v \" {vector}\" -m {color}')\n",
    "                if result['success'] == False:\n",
    "                    print(brick, \"can't place after import\")\n",
    "                    break\n",
    "            copy_to_ue_tool.append(f'{place_lego_part.resolve()} -b \"{brick}\" -r \" {matrix}\" -v \" {vector}\" -m {color}')\n",
    "with open('last_commands.txt', 'w') as f:\n",
    "    f.write('\\n\\n'.join(copy_to_ue_tool))\n"
   ]
  }
 ],
 "metadata": {
  "kernelspec": {
   "display_name": "Python 3.8.7 ('venv': venv)",
   "language": "python",
   "name": "python3"
  },
  "language_info": {
   "codemirror_mode": {
    "name": "ipython",
    "version": 3
   },
   "file_extension": ".py",
   "mimetype": "text/x-python",
   "name": "python",
   "nbconvert_exporter": "python",
   "pygments_lexer": "ipython3",
   "version": "3.8.7"
  },
  "orig_nbformat": 4,
  "vscode": {
   "interpreter": {
    "hash": "06e32699b1c34e37477e69f203aab96f8ab2d7ee9b0f26f4c374ba31d81b5dc6"
   }
  }
 },
 "nbformat": 4,
 "nbformat_minor": 2
}
